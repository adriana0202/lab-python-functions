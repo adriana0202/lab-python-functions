{
 "cells": [
  {
   "cell_type": "markdown",
   "id": "25d7736c-ba17-4aff-b6bb-66eba20fbf4e",
   "metadata": {},
   "source": [
    "# Lab | Functions"
   ]
  },
  {
   "cell_type": "markdown",
   "id": "0c581062-8967-4d93-b06e-62833222f930",
   "metadata": {
    "tags": []
   },
   "source": [
    "## Exercise: Managing Customer Orders with Functions\n",
    "\n",
    "In the previous exercise, you improved the code for managing customer orders by using loops and flow control. Now, let's take it a step further and refactor the code by introducing functions.\n",
    "\n",
    "Follow the steps below to complete the exercise:\n",
    "\n",
    "1. Define a function named `initialize_inventory` that takes `products` as a parameter. Inside the function, implement the code for initializing the inventory dictionary using a loop and user input.\n",
    "\n",
    "2. Define a function named `get_customer_orders` that takes no parameters. Inside the function, implement the code for prompting the user to enter the product names using a loop. The function should return the `customer_orders` set.\n",
    "\n",
    "3. Define a function named `update_inventory` that takes `customer_orders` and `inventory` as parameters. Inside the function, implement the code for updating the inventory dictionary based on the customer orders.\n",
    "\n",
    "4. Define a function named `calculate_order_statistics` that takes `customer_orders` and `products` as parameters. Inside the function, implement the code for calculating the order statistics (total products ordered, and percentage of unique products ordered). The function should return these values.\n",
    "\n",
    "5. Define a function named `print_order_statistics` that takes `order_statistics` as a parameter. Inside the function, implement the code for printing the order statistics.\n",
    "\n",
    "6. Define a function named `print_updated_inventory` that takes `inventory` as a parameter. Inside the function, implement the code for printing the updated inventory.\n",
    "\n",
    "7. Call the functions in the appropriate sequence to execute the program and manage customer orders.\n",
    "\n",
    "Hints for functions:\n",
    "\n",
    "- Consider the input parameters required for each function and their return values.\n",
    "- Utilize function parameters and return values to transfer data between functions.\n",
    "- Test your functions individually to ensure they work correctly.\n",
    "\n",
    "\n"
   ]
  },
  {
   "cell_type": "code",
   "execution_count": 1,
   "id": "0030b4d3",
   "metadata": {},
   "outputs": [],
   "source": [
    "# Step 1\n",
    "\n",
    "# Define a function named initialize_inventory \n",
    "# that takes products as a parameter.\n",
    "# Inside the function, implement the code for initializing \n",
    "# the inventory dictionary using a loop and user input.\n",
    "\n",
    "def initialize_inventory(products):\n",
    "    inventory = {}\n",
    "    for element in products:\n",
    "        inventory[element] = int(input(f'Please enter your {element} stock:'))\n",
    "    return inventory"
   ]
  },
  {
   "cell_type": "code",
   "execution_count": 2,
   "id": "ec3767c2",
   "metadata": {},
   "outputs": [
    {
     "name": "stdout",
     "output_type": "stream",
     "text": [
      "Please enter your t-shirt stock:5\n",
      "Please enter your mug stock:7\n",
      "Please enter your hat stock:6\n",
      "Please enter your book stock:4\n",
      "Please enter your keychain stock:56\n"
     ]
    }
   ],
   "source": [
    "products = ['t-shirt','mug','hat','book','keychain']\n",
    "inventory=initialize_inventory(products)"
   ]
  },
  {
   "cell_type": "code",
   "execution_count": 3,
   "id": "8769f10f",
   "metadata": {},
   "outputs": [],
   "source": [
    "#Step 2\n",
    "\n",
    "# Define a function named get_customer_orders that takes no parameters. \n",
    "# Inside the function, implement the code for prompting \n",
    "#   the user to enter the product names using a loop. \n",
    "# The function should return the customer_orders set.\n",
    "\n",
    "def get_customer_orders():\n",
    "    new_order=True\n",
    "    customer_orders=set()\n",
    "    while new_order:\n",
    "        product_name=input('Enter name of product to order:')\n",
    "        customer_orders.add(product_name)\n",
    "        choice=input('Additional product? (yes/no) :')\n",
    "        if choice.lower() != 'yes':\n",
    "            new_order=False\n",
    "    return customer_orders"
   ]
  },
  {
   "cell_type": "code",
   "execution_count": 4,
   "id": "b19faee8",
   "metadata": {},
   "outputs": [
    {
     "name": "stdout",
     "output_type": "stream",
     "text": [
      "Enter name of product to order:mug\n",
      "Additional product? (yes/no) :yes\n",
      "Enter name of product to order:t-shirt\n",
      "Additional product? (yes/no) :yes\n",
      "Enter name of product to order:book\n",
      "Additional product? (yes/no) :no\n"
     ]
    }
   ],
   "source": [
    "customer_orders=get_customer_orders()"
   ]
  },
  {
   "cell_type": "code",
   "execution_count": 5,
   "id": "eba904f9",
   "metadata": {},
   "outputs": [
    {
     "name": "stdout",
     "output_type": "stream",
     "text": [
      "{'t-shirt', 'mug', 'book'}\n"
     ]
    },
    {
     "data": {
      "text/plain": [
       "{'t-shirt': 5, 'mug': 7, 'hat': 6, 'book': 4, 'keychain': 56}"
      ]
     },
     "execution_count": 5,
     "metadata": {},
     "output_type": "execute_result"
    }
   ],
   "source": [
    "print(customer_orders)\n",
    "inventory"
   ]
  },
  {
   "cell_type": "code",
   "execution_count": 6,
   "id": "b4d267ad",
   "metadata": {},
   "outputs": [],
   "source": [
    "# Step 3\n",
    "\n",
    "# Define a function named update_inventory that takes customer_orders and inventory \n",
    "#    as parameters. \n",
    "# Inside the function, implement the code for updating \n",
    "#   the inventory dictionary based on the customer orders.\n",
    "\n",
    "def update_inventory(customer_orders,inventory):\n",
    "    for key in customer_orders:\n",
    "        if key in inventory:\n",
    "            inventory[key]= inventory[key]-1\n",
    "    return inventory"
   ]
  },
  {
   "cell_type": "code",
   "execution_count": 7,
   "id": "e4119abe",
   "metadata": {},
   "outputs": [
    {
     "name": "stdout",
     "output_type": "stream",
     "text": [
      "{'t-shirt': 4, 'mug': 6, 'hat': 6, 'book': 3, 'keychain': 56}\n"
     ]
    }
   ],
   "source": [
    "new_inventory=update_inventory(customer_orders,inventory)\n",
    "print(new_inventory)"
   ]
  },
  {
   "cell_type": "code",
   "execution_count": 8,
   "id": "70261a2e",
   "metadata": {},
   "outputs": [],
   "source": [
    "# Step 4\n",
    "# Define a function named calculate_order_statistics that takes customer_orders and products as parameters.\n",
    "# Inside the function, implement the code for calculating the order statistics \n",
    "# (total products ordered, and percentage of unique products ordered). \n",
    "# The function should return these values."
   ]
  },
  {
   "cell_type": "code",
   "execution_count": 9,
   "id": "388b6ee7",
   "metadata": {},
   "outputs": [],
   "source": [
    "def calculate_order_statistics(customer_orders,products):\n",
    "    for product in customer_orders:\n",
    "        if product in products:\n",
    "            total_products_ordered=len(customer_orders)\n",
    "            per_product_ordered=(total_products_ordered/len(products))*100\n",
    "        return total_products_ordered, per_product_ordered"
   ]
  },
  {
   "cell_type": "code",
   "execution_count": 14,
   "id": "4cff8950",
   "metadata": {},
   "outputs": [
    {
     "data": {
      "text/plain": [
       "tuple"
      ]
     },
     "execution_count": 14,
     "metadata": {},
     "output_type": "execute_result"
    }
   ],
   "source": [
    "order_statistics = calculate_order_statistics(customer_orders,products)\n",
    "type(order_statistics)"
   ]
  },
  {
   "cell_type": "code",
   "execution_count": 17,
   "id": "ff0b48d3",
   "metadata": {},
   "outputs": [],
   "source": [
    "# Step 5\n",
    "# Define a function named print_order_statistics that takes order_statistics as a parameter. \n",
    "# Inside the function, implement the code for printing the order statistics.\n",
    "\n",
    "def print_order_statistics(order_statistics):\n",
    "    print('Order statistics: ')\n",
    "    print('Total products ordered: ', order_statistics[0])\n",
    "    print('Percentage of unique products ordered:', order_statistics[1],'%')"
   ]
  },
  {
   "cell_type": "code",
   "execution_count": 18,
   "id": "2dc82441",
   "metadata": {},
   "outputs": [
    {
     "name": "stdout",
     "output_type": "stream",
     "text": [
      "Order statistics: \n",
      "Total products ordered:  3\n",
      "Percentage of unique products ordered: 60.0 %\n"
     ]
    }
   ],
   "source": [
    "print_order_statistics(order_statistics)"
   ]
  },
  {
   "cell_type": "code",
   "execution_count": null,
   "id": "7cf491e7",
   "metadata": {},
   "outputs": [],
   "source": []
  },
  {
   "cell_type": "code",
   "execution_count": 19,
   "id": "8ef890b0",
   "metadata": {},
   "outputs": [],
   "source": [
    "# Step 6\n",
    "# Define a function named print_updated_inventory that takes inventory as a parameter. \n",
    "# Inside the function, implement the code for printing the updated inventory.\n",
    "\n",
    "def print_updated_inventory(inventory):\n",
    "    print('Updated_inventory:')\n",
    "    print(new_inventory)"
   ]
  },
  {
   "cell_type": "code",
   "execution_count": 20,
   "id": "d3cc47e3",
   "metadata": {},
   "outputs": [
    {
     "name": "stdout",
     "output_type": "stream",
     "text": [
      "Updated_inventory:\n",
      "{'t-shirt': 4, 'mug': 6, 'hat': 6, 'book': 3, 'keychain': 56}\n"
     ]
    }
   ],
   "source": [
    "print_updated_inventory(inventory)"
   ]
  },
  {
   "cell_type": "code",
   "execution_count": 21,
   "id": "4031da4c",
   "metadata": {},
   "outputs": [
    {
     "name": "stdout",
     "output_type": "stream",
     "text": [
      "Please enter your t-shirt stock:5\n",
      "Please enter your mug stock:7\n",
      "Please enter your hat stock:8\n",
      "Please enter your book stock:5\n",
      "Please enter your keychain stock:4\n",
      "Enter name of product to order:mug\n",
      "Additional product? (yes/no) :yes\n",
      "Enter name of product to order:t-shirt\n",
      "Additional product? (yes/no) :yes\n",
      "Enter name of product to order:book\n",
      "Additional product? (yes/no) :no\n",
      "Order statistics: \n",
      "Total products ordered:  3\n",
      "Percentage of unique products ordered: 60.0 %\n",
      "Updated_inventory:\n",
      "{'t-shirt': 4, 'mug': 6, 'hat': 8, 'book': 4, 'keychain': 4}\n"
     ]
    }
   ],
   "source": [
    "# Step 7\n",
    "# Call the functions in the appropriate sequence to execute the program and manage customer orders.\n",
    "\n",
    "products = ['t-shirt','mug','hat','book','keychain']\n",
    "inventory=initialize_inventory(products)\n",
    "customer_orders=get_customer_orders()\n",
    "new_inventory=update_inventory(customer_orders,inventory)\n",
    "order_statistics = calculate_order_statistics(customer_orders,products)\n",
    "print_order_statistics(order_statistics)\n",
    "print_updated_inventory(inventory)"
   ]
  },
  {
   "cell_type": "code",
   "execution_count": null,
   "id": "6211214c",
   "metadata": {},
   "outputs": [],
   "source": []
  }
 ],
 "metadata": {
  "kernelspec": {
   "display_name": "Python 3 (ipykernel)",
   "language": "python",
   "name": "python3"
  },
  "language_info": {
   "codemirror_mode": {
    "name": "ipython",
    "version": 3
   },
   "file_extension": ".py",
   "mimetype": "text/x-python",
   "name": "python",
   "nbconvert_exporter": "python",
   "pygments_lexer": "ipython3",
   "version": "3.11.5"
  }
 },
 "nbformat": 4,
 "nbformat_minor": 5
}
