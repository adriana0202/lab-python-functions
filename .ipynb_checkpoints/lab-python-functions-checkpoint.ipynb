{
 "cells": [
  {
   "cell_type": "markdown",
   "id": "25d7736c-ba17-4aff-b6bb-66eba20fbf4e",
   "metadata": {},
   "source": [
    "# Lab | Functions"
   ]
  },
  {
   "cell_type": "markdown",
   "id": "0c581062-8967-4d93-b06e-62833222f930",
   "metadata": {
    "tags": []
   },
   "source": [
    "## Exercise: Managing Customer Orders with Functions\n",
    "\n",
    "In the previous exercise, you improved the code for managing customer orders by using loops and flow control. Now, let's take it a step further and refactor the code by introducing functions.\n",
    "\n",
    "Follow the steps below to complete the exercise:\n",
    "\n",
    "1. Define a function named `initialize_inventory` that takes `products` as a parameter. Inside the function, implement the code for initializing the inventory dictionary using a loop and user input.\n",
    "\n",
    "2. Define a function named `get_customer_orders` that takes no parameters. Inside the function, implement the code for prompting the user to enter the product names using a loop. The function should return the `customer_orders` set.\n",
    "\n",
    "3. Define a function named `update_inventory` that takes `customer_orders` and `inventory` as parameters. Inside the function, implement the code for updating the inventory dictionary based on the customer orders.\n",
    "\n",
    "4. Define a function named `calculate_order_statistics` that takes `customer_orders` and `products` as parameters. Inside the function, implement the code for calculating the order statistics (total products ordered, and percentage of unique products ordered). The function should return these values.\n",
    "\n",
    "5. Define a function named `print_order_statistics` that takes `order_statistics` as a parameter. Inside the function, implement the code for printing the order statistics.\n",
    "\n",
    "6. Define a function named `print_updated_inventory` that takes `inventory` as a parameter. Inside the function, implement the code for printing the updated inventory.\n",
    "\n",
    "7. Call the functions in the appropriate sequence to execute the program and manage customer orders.\n",
    "\n",
    "Hints for functions:\n",
    "\n",
    "- Consider the input parameters required for each function and their return values.\n",
    "- Utilize function parameters and return values to transfer data between functions.\n",
    "- Test your functions individually to ensure they work correctly.\n",
    "\n",
    "\n"
   ]
  },
  {
   "cell_type": "code",
   "execution_count": 16,
   "id": "f8e08e1d",
   "metadata": {},
   "outputs": [],
   "source": [
    "# Step 1\n",
    "\n",
    "# Define a function named initialize_inventory \n",
    "# that takes products as a parameter.\n",
    "# Inside the function, implement the code for initializing \n",
    "# the inventory dictionary using a loop and user input.\n",
    "\n",
    "def initialize_inventory(products):\n",
    "    inventory = {}\n",
    "    for element in products:\n",
    "        inventory[element] = int(input(f'Please enter your {element} stock:'))\n",
    "    return f'Inventory:{inventory}'"
   ]
  },
  {
   "cell_type": "code",
   "execution_count": 17,
   "id": "43ca0266",
   "metadata": {},
   "outputs": [
    {
     "name": "stdout",
     "output_type": "stream",
     "text": [
      "Please enter your t-shirt stock:12\n",
      "Please enter your mug stock:3\n",
      "Please enter your hat stock:4\n",
      "Please enter your book stock:5\n",
      "Please enter your keychain stock:6\n"
     ]
    },
    {
     "data": {
      "text/plain": [
       "\"Inventory:{'t-shirt': 12, 'mug': 3, 'hat': 4, 'book': 5, 'keychain': 6}\""
      ]
     },
     "execution_count": 17,
     "metadata": {},
     "output_type": "execute_result"
    }
   ],
   "source": [
    "products = ['t-shirt','mug','hat','book','keychain']\n",
    "initialize_inventory(products)"
   ]
  },
  {
   "cell_type": "code",
   "execution_count": 23,
   "id": "f72ddf5d",
   "metadata": {},
   "outputs": [],
   "source": [
    "# Step 2\n",
    "\n",
    "# Define a function named get_customer_orders that takes no parameters. \n",
    "# Inside the function, implement the code for prompting \n",
    "#   the user to enter the product names using a loop. \n",
    "# The function should return the customer_orders set.\n",
    "\n",
    "def get_customer_orders():\n",
    "    new_order=True\n",
    "    customer_orders=set()\n",
    "    while new_order:\n",
    "        product_name=input('Enter name of product to order:')\n",
    "        customer_orders.add(product_name)\n",
    "        choice=input('Additional product? (yes/no) :')\n",
    "        if choice.lower() != 'yes':\n",
    "            new_order=False\n",
    "    return f'Products ordered: {customer_orders}'"
   ]
  },
  {
   "cell_type": "code",
   "execution_count": 24,
   "id": "4ca931cd",
   "metadata": {},
   "outputs": [
    {
     "name": "stdout",
     "output_type": "stream",
     "text": [
      "Enter name of product to order:t-shirt\n",
      "Additional product? (yes/no) :yes\n",
      "Enter name of product to order:mug\n",
      "Additional product? (yes/no) :yes\n",
      "Enter name of product to order:book\n",
      "Additional product? (yes/no) :no\n"
     ]
    },
    {
     "data": {
      "text/plain": [
       "\"Products ordered: {'mug', 't-shirt', 'book'}\""
      ]
     },
     "execution_count": 24,
     "metadata": {},
     "output_type": "execute_result"
    }
   ],
   "source": [
    "get_customer_orders()"
   ]
  },
  {
   "cell_type": "code",
   "execution_count": null,
   "id": "05ad5a71",
   "metadata": {},
   "outputs": [],
   "source": [
    "# Step 3\n",
    "\n",
    "# Define a function named update_inventory that takes customer_orders and inventory \n",
    "#    as parameters. \n",
    "# Inside the function, implement the code for updating \n",
    "#   the inventory dictionary based on the customer orders.\n",
    "\n",
    "inventory =initialize_inventory(products)\n",
    "customer_orders =get_customer_orders()\n",
    "\n",
    "def update_inventory(customer_orders,inventory):\n",
    "    for key in customer_orders:\n",
    "        inventory[key]=inventory[key]-1\n",
    "    return inventory"
   ]
  },
  {
   "cell_type": "code",
   "execution_count": 31,
   "id": "4eeb5c33",
   "metadata": {},
   "outputs": [
    {
     "ename": "NameError",
     "evalue": "name 'mug' is not defined",
     "output_type": "error",
     "traceback": [
      "\u001b[0;31m---------------------------------------------------------------------------\u001b[0m",
      "\u001b[0;31mNameError\u001b[0m                                 Traceback (most recent call last)",
      "Cell \u001b[0;32mIn[31], line 1\u001b[0m\n\u001b[0;32m----> 1\u001b[0m update_inventory(mug,\u001b[38;5;241m3\u001b[39m)\n",
      "\u001b[0;31mNameError\u001b[0m: name 'mug' is not defined"
     ]
    }
   ],
   "source": [
    "update_inventory(mug,3)"
   ]
  },
  {
   "cell_type": "code",
   "execution_count": null,
   "id": "e29c407f",
   "metadata": {},
   "outputs": [],
   "source": []
  }
 ],
 "metadata": {
  "kernelspec": {
   "display_name": "Python 3 (ipykernel)",
   "language": "python",
   "name": "python3"
  },
  "language_info": {
   "codemirror_mode": {
    "name": "ipython",
    "version": 3
   },
   "file_extension": ".py",
   "mimetype": "text/x-python",
   "name": "python",
   "nbconvert_exporter": "python",
   "pygments_lexer": "ipython3",
   "version": "3.11.5"
  }
 },
 "nbformat": 4,
 "nbformat_minor": 5
}
